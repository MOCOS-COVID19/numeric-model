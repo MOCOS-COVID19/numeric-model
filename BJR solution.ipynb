{
 "cells": [
  {
   "cell_type": "code",
   "execution_count": 1,
   "metadata": {},
   "outputs": [
    {
     "name": "stderr",
     "output_type": "stream",
     "text": [
      "\u001b[32m\u001b[1m Activating\u001b[22m\u001b[39m environment at `~/mocos/numeric-model/Project.toml`\n"
     ]
    }
   ],
   "source": [
    "using Pkg\n",
    "Pkg.activate(\".\")"
   ]
  },
  {
   "cell_type": "code",
   "execution_count": 2,
   "metadata": {},
   "outputs": [
    {
     "name": "stderr",
     "output_type": "stream",
     "text": [
      "┌ Info: Precompiling CSV [336ed68f-0bac-5ca0-87d4-7b16caf5d00b]\n",
      "└ @ Base loading.jl:1260\n",
      "┌ Info: Precompiling PyPlot [d330b81b-6aea-500a-939a-2ce795aea3ee]\n",
      "└ @ Base loading.jl:1260\n",
      "┌ Info: Installing matplotlib via the Conda matplotlib package...\n",
      "└ @ PyCall /Users/tomek/.julia/packages/PyCall/zqDXB/src/PyCall.jl:697\n",
      "┌ Info: Running `conda install -y matplotlib` in root environment\n",
      "└ @ Conda /Users/tomek/.julia/packages/Conda/3rPhK/src/Conda.jl:113\n"
     ]
    },
    {
     "name": "stdout",
     "output_type": "stream",
     "text": [
      "Collecting package metadata (current_repodata.json): ...working... done\n",
      "Solving environment: ...working... done\n",
      "\n",
      "## Package Plan ##\n",
      "\n",
      "  environment location: /Users/tomek/.julia/conda/3\n",
      "\n",
      "  added / updated specs:\n",
      "    - matplotlib\n",
      "\n",
      "\n",
      "The following packages will be downloaded:\n",
      "\n",
      "    package                    |            build\n",
      "    ---------------------------|-----------------\n",
      "    cycler-0.10.0              |           py37_0          14 KB\n",
      "    freetype-2.9.1             |       hb4e5f40_0         555 KB\n",
      "    kiwisolver-1.2.0           |   py37h04f5b5a_0          55 KB\n",
      "    matplotlib-3.1.3           |           py37_0          21 KB\n",
      "    matplotlib-base-3.1.3      |   py37h9aa3819_0         4.9 MB\n",
      "    pyparsing-2.4.7            |             py_0          65 KB\n",
      "    ------------------------------------------------------------\n",
      "                                           Total:         5.6 MB\n",
      "\n",
      "The following NEW packages will be INSTALLED:\n",
      "\n",
      "  cycler             pkgs/main/osx-64::cycler-0.10.0-py37_0\n",
      "  freetype           pkgs/main/osx-64::freetype-2.9.1-hb4e5f40_0\n",
      "  kiwisolver         pkgs/main/osx-64::kiwisolver-1.2.0-py37h04f5b5a_0\n",
      "  matplotlib         pkgs/main/osx-64::matplotlib-3.1.3-py37_0\n",
      "  matplotlib-base    pkgs/main/osx-64::matplotlib-base-3.1.3-py37h9aa3819_0\n",
      "  pyparsing          pkgs/main/noarch::pyparsing-2.4.7-py_0\n",
      "\n",
      "\n",
      "\n",
      "Downloading and Extracting Packages\n",
      "matplotlib-3.1.3     | 21 KB     | ########## | 100% \n",
      "pyparsing-2.4.7      | 65 KB     | ########## | 100% \n",
      "matplotlib-base-3.1. | 4.9 MB    | ########## | 100% \n",
      "cycler-0.10.0        | 14 KB     | ########## | 100% \n",
      "kiwisolver-1.2.0     | 55 KB     | ########## | 100% \n",
      "freetype-2.9.1       | 555 KB    | ########## | 100% \n",
      "Preparing transaction: ...working... done\n",
      "Verifying transaction: ...working... done\n",
      "Executing transaction: ...working... done\n"
     ]
    },
    {
     "name": "stderr",
     "output_type": "stream",
     "text": [
      "┌ Info: Precompiling JLD2 [033835bb-8acc-5ee8-8aae-3f567f8a3819]\n",
      "└ @ Base loading.jl:1260\n"
     ]
    },
    {
     "name": "stdout",
     "output_type": "stream",
     "text": [
      "Downloading artifact: Zlib\n",
      "\u001b[?25l"
     ]
    },
    {
     "name": "stderr",
     "output_type": "stream",
     "text": [
      "######################################################################### 100,0%-=O=- #   #    #    #                                                          \n"
     ]
    },
    {
     "name": "stdout",
     "output_type": "stream",
     "text": [
      "\u001b[1A\u001b[2K\u001b[?25h"
     ]
    },
    {
     "name": "stderr",
     "output_type": "stream",
     "text": [
      "┌ Info: Precompiling ProgressMeter [92933f4c-e287-5a05-a399-4b506db050ca]\n",
      "└ @ Base loading.jl:1260\n"
     ]
    },
    {
     "data": {
      "text/plain": [
       "\"plots/\""
      ]
     },
     "execution_count": 2,
     "metadata": {},
     "output_type": "execute_result"
    }
   ],
   "source": [
    "using CSV\n",
    "using PyPlot\n",
    "using SparseArrays\n",
    "using JLD2\n",
    "using FileIO\n",
    "using LinearAlgebra\n",
    "using ProgressMeter\n",
    "plot_prefix = \"plots/\""
   ]
  },
  {
   "cell_type": "code",
   "execution_count": 3,
   "metadata": {},
   "outputs": [
    {
     "data": {
      "text/plain": [
       "3-element Array{Symbol,1}:\n",
       " :household_count\n",
       " :households\n",
       " :households_all"
      ]
     },
     "execution_count": 3,
     "metadata": {},
     "output_type": "execute_result"
    }
   ],
   "source": [
    "@load \"data/wroclaw-population.jld2\""
   ]
  },
  {
   "cell_type": "code",
   "execution_count": 4,
   "metadata": {},
   "outputs": [
    {
     "data": {
      "text/plain": [
       "countuniquesorted (generic function with 1 method)"
      ]
     },
     "execution_count": 4,
     "metadata": {},
     "output_type": "execute_result"
    }
   ],
   "source": [
    "function countuniquesorted(arr::AbstractArray{T,1}) where T\n",
    "    d = Dict{T,Int}()\n",
    "    for val in arr\n",
    "        count = get(d, val, 0)\n",
    "        d[val] = count + 1\n",
    "    end\n",
    "    \n",
    "    N = length(d)\n",
    "    vals = Array{T,1}()\n",
    "    sizehint!(vals,N)\n",
    "    counts = Array{Int,1}()\n",
    "    sizehint!(counts,N)\n",
    "    for (val,count) in sort(collect(d))\n",
    "        push!(vals,val)\n",
    "        push!(counts,count)\n",
    "    end\n",
    "    \n",
    "    return vals,counts\n",
    "end"
   ]
  },
  {
   "cell_type": "code",
   "execution_count": 5,
   "metadata": {},
   "outputs": [
    {
     "data": {
      "text/plain": [
       "8"
      ]
     },
     "execution_count": 5,
     "metadata": {},
     "output_type": "execute_result"
    }
   ],
   "source": [
    "sizes, counts = countuniquesorted(sum(households_all,dims=1) |> vec)\n",
    "dist = counts./sum(counts)\n",
    "num_sizes = size(dist,1)"
   ]
  },
  {
   "cell_type": "code",
   "execution_count": 6,
   "metadata": {},
   "outputs": [
    {
     "data": {
      "text/plain": [
       "solve_simple (generic function with 1 method)"
      ]
     },
     "execution_count": 6,
     "metadata": {},
     "output_type": "execute_result"
    }
   ],
   "source": [
    "function solve_simple(\n",
    "        sizes::AbstractVector{T} where T<:Real,\n",
    "        counts::AbstractVector{T} where T<:Real;\n",
    "        c0::Real,\n",
    "        a::Real=0,\n",
    "        f1::Real=0.15,\n",
    "        f2::Real=0.15,\n",
    "        population::Bool=true,\n",
    "        max_iters::Integer=100\n",
    "    )::Real\n",
    "    \n",
    "    dist = counts ./ sum(counts)\n",
    "    \n",
    "    rho = ones(size(dist))\n",
    "    new_rho = ones(size(dist))\n",
    "    \n",
    "    hj = sizes .* dist\n",
    "    k = sizes\n",
    "    k1 = ( (1-f1*a) .* k .+ f2*a )\n",
    "    m = dot(sizes, dist)\n",
    "    \n",
    "    for iter in 1:max_iters\n",
    "        r = c0 * dot(rho, hj) / m\n",
    "        new_rho .= -expm1.(-r .* k1)\n",
    "        if all(rho .== new_rho)\n",
    "            break\n",
    "        end\n",
    "        tmp = rho\n",
    "        rho = new_rho\n",
    "        new_rho = tmp\n",
    "    end\n",
    "\n",
    "    if population\n",
    "        dot(rho, hj) / m\n",
    "    else\n",
    "        dot(rho, dist)\n",
    "    end\n",
    "end"
   ]
  },
  {
   "cell_type": "code",
   "execution_count": 7,
   "metadata": {},
   "outputs": [
    {
     "name": "stdout",
     "output_type": "stream",
     "text": [
      "  0.618182 seconds (2.50 M allocations: 132.044 MiB, 5.41% gc time)\n"
     ]
    }
   ],
   "source": [
    "As = (0.4:0.4)'\n",
    "Cs = 0:0.001:1\n",
    "t = 2.34\n",
    "C0s = t*Cs\n",
    "f1 = 0.15\n",
    "f2 = 0.15\n",
    "\n",
    "@time wroclaw_simple = ((c0,a) ->solve_simple(sizes, counts, c0=c0, a=a, f1=f1, f2=f2)).(C0s, As)\n",
    ";"
   ]
  },
  {
   "cell_type": "code",
   "execution_count": 8,
   "metadata": {},
   "outputs": [
    {
     "data": {
      "image/png": "[encoded data removed]",
      "text/plain": [
       "Figure(PyObject <Figure size 640x480 with 1 Axes>)"
      ]
     },
     "metadata": {},
     "output_type": "display_data"
    }
   ],
   "source": [
    "figure()\n",
    "simulation = CSV.read(\"data/fig3_data.csv\")[:,[:x,:y]]\n",
    "\n",
    "#for i in 1:size(results_simple,2)\n",
    "#    lines = plot(C0s, results_simple[:,i], label=\"a=$(As[i])\")\n",
    "#end\n",
    "\n",
    "plot(C0s, wroclaw_simple, label=\"theory\")\n",
    "plot(simulation.x, simulation.y, \"k.\", label=\"simulation\")\n",
    "\n",
    "legend(loc=\"upper left\")\n",
    "\n",
    "xlabel(\"R*\")\n",
    "ylabel(\"relative prevalence\")\n",
    "xlim(left=0.0, right=1)\n",
    "ylim(bottom=0, top=1)\n",
    "#title(\"Dependence of relative prevalence on R*\")\n",
    "savefig(plot_prefix*\"simple_results.png\")"
   ]
  },
  {
   "cell_type": "code",
   "execution_count": 9,
   "metadata": {
    "scrolled": true
   },
   "outputs": [
    {
     "data": {
      "text/html": [
       "<table class=\"data-frame\"><thead><tr><th></th><th>Berlin</th><th>Germany</th><th>householdsize</th></tr><tr><th></th><th>Float64</th><th>Float64</th><th>Int64</th></tr></thead><tbody><p>59 rows × 3 columns</p><tr><th>1</th><td>0.536129</td><td>0.405623</td><td>1</td></tr><tr><th>2</th><td>0.28789</td><td>0.345139</td><td>2</td></tr><tr><th>3</th><td>0.0949537</td><td>0.123608</td><td>3</td></tr><tr><th>4</th><td>0.0578267</td><td>0.0911893</td><td>4</td></tr><tr><th>5</th><td>0.016577</td><td>0.0253071</td><td>5</td></tr><tr><th>6</th><td>0.00366581</td><td>0.00582066</td><td>6</td></tr><tr><th>7</th><td>0.00143683</td><td>0.00141149</td><td>7</td></tr><tr><th>8</th><td>0.000663316</td><td>0.000564112</td><td>8</td></tr><tr><th>9</th><td>0.000538212</td><td>0.000332072</td><td>9</td></tr><tr><th>10</th><td>8.35799e-5</td><td>0.000198127</td><td>10</td></tr><tr><th>11</th><td>8.09182e-5</td><td>0.000191587</td><td>11</td></tr><tr><th>12</th><td>0.0</td><td>6.81101e-5</td><td>12</td></tr><tr><th>13</th><td>0.000155448</td><td>8.34381e-5</td><td>13</td></tr><tr><th>14</th><td>0.0</td><td>8.13961e-5</td><td>14</td></tr><tr><th>15</th><td>0.0</td><td>4.08144e-5</td><td>15</td></tr><tr><th>16</th><td>0.0</td><td>4.89307e-5</td><td>16</td></tr><tr><th>17</th><td>0.0</td><td>2.47626e-5</td><td>17</td></tr><tr><th>18</th><td>0.0</td><td>3.43781e-5</td><td>18</td></tr><tr><th>19</th><td>0.0</td><td>1.66204e-5</td><td>19</td></tr><tr><th>20</th><td>0.0</td><td>2.37545e-5</td><td>20</td></tr><tr><th>21</th><td>0.0</td><td>3.55672e-5</td><td>21</td></tr><tr><th>22</th><td>0.0</td><td>1.01842e-5</td><td>22</td></tr><tr><th>23</th><td>0.0</td><td>3.08369e-5</td><td>23</td></tr><tr><th>24</th><td>0.0</td><td>1.56382e-5</td><td>24</td></tr><tr><th>25</th><td>0.0</td><td>2.14282e-5</td><td>25</td></tr><tr><th>26</th><td>0.0</td><td>1.77319e-5</td><td>26</td></tr><tr><th>27</th><td>0.0</td><td>1.47076e-5</td><td>27</td></tr><tr><th>28</th><td>0.0</td><td>4.3942e-6</td><td>28</td></tr><tr><th>29</th><td>0.0</td><td>1.22004e-5</td><td>29</td></tr><tr><th>30</th><td>0.0</td><td>4.00648e-6</td><td>30</td></tr><tr><th>&vellip;</th><td>&vellip;</td><td>&vellip;</td><td>&vellip;</td></tr></tbody></table>"
      ],
      "text/latex": [
       "\\begin{tabular}{r|ccc}\n",
       "\t& Berlin & Germany & householdsize\\\\\n",
       "\t\\hline\n",
       "\t& Float64 & Float64 & Int64\\\\\n",
       "\t\\hline\n",
       "\t1 & 0.536129 & 0.405623 & 1 \\\\\n",
       "\t2 & 0.28789 & 0.345139 & 2 \\\\\n",
       "\t3 & 0.0949537 & 0.123608 & 3 \\\\\n",
       "\t4 & 0.0578267 & 0.0911893 & 4 \\\\\n",
       "\t5 & 0.016577 & 0.0253071 & 5 \\\\\n",
       "\t6 & 0.00366581 & 0.00582066 & 6 \\\\\n",
       "\t7 & 0.00143683 & 0.00141149 & 7 \\\\\n",
       "\t8 & 0.000663316 & 0.000564112 & 8 \\\\\n",
       "\t9 & 0.000538212 & 0.000332072 & 9 \\\\\n",
       "\t10 & 8.35799e-5 & 0.000198127 & 10 \\\\\n",
       "\t11 & 8.09182e-5 & 0.000191587 & 11 \\\\\n",
       "\t12 & 0.0 & 6.81101e-5 & 12 \\\\\n",
       "\t13 & 0.000155448 & 8.34381e-5 & 13 \\\\\n",
       "\t14 & 0.0 & 8.13961e-5 & 14 \\\\\n",
       "\t15 & 0.0 & 4.08144e-5 & 15 \\\\\n",
       "\t16 & 0.0 & 4.89307e-5 & 16 \\\\\n",
       "\t17 & 0.0 & 2.47626e-5 & 17 \\\\\n",
       "\t18 & 0.0 & 3.43781e-5 & 18 \\\\\n",
       "\t19 & 0.0 & 1.66204e-5 & 19 \\\\\n",
       "\t20 & 0.0 & 2.37545e-5 & 20 \\\\\n",
       "\t21 & 0.0 & 3.55672e-5 & 21 \\\\\n",
       "\t22 & 0.0 & 1.01842e-5 & 22 \\\\\n",
       "\t23 & 0.0 & 3.08369e-5 & 23 \\\\\n",
       "\t24 & 0.0 & 1.56382e-5 & 24 \\\\\n",
       "\t25 & 0.0 & 2.14282e-5 & 25 \\\\\n",
       "\t26 & 0.0 & 1.77319e-5 & 26 \\\\\n",
       "\t27 & 0.0 & 1.47076e-5 & 27 \\\\\n",
       "\t28 & 0.0 & 4.3942e-6 & 28 \\\\\n",
       "\t29 & 0.0 & 1.22004e-5 & 29 \\\\\n",
       "\t30 & 0.0 & 4.00648e-6 & 30 \\\\\n",
       "\t$\\dots$ & $\\dots$ & $\\dots$ & $\\dots$ \\\\\n",
       "\\end{tabular}\n"
      ],
      "text/plain": [
       "59×3 DataFrames.DataFrame\n",
       "│ Row │ Berlin      │ Germany     │ householdsize │\n",
       "│     │ \u001b[90mFloat64\u001b[39m     │ \u001b[90mFloat64\u001b[39m     │ \u001b[90mInt64\u001b[39m         │\n",
       "├─────┼─────────────┼─────────────┼───────────────┤\n",
       "│ 1   │ 0.536129    │ 0.405623    │ 1             │\n",
       "│ 2   │ 0.28789     │ 0.345139    │ 2             │\n",
       "│ 3   │ 0.0949537   │ 0.123608    │ 3             │\n",
       "│ 4   │ 0.0578267   │ 0.0911893   │ 4             │\n",
       "│ 5   │ 0.016577    │ 0.0253071   │ 5             │\n",
       "│ 6   │ 0.00366581  │ 0.00582066  │ 6             │\n",
       "│ 7   │ 0.00143683  │ 0.00141149  │ 7             │\n",
       "│ 8   │ 0.000663316 │ 0.000564112 │ 8             │\n",
       "│ 9   │ 0.000538212 │ 0.000332072 │ 9             │\n",
       "│ 10  │ 8.35799e-5  │ 0.000198127 │ 10            │\n",
       "⋮\n",
       "│ 49  │ 0.0         │ 0.0         │ 49            │\n",
       "│ 50  │ 0.0         │ 0.0         │ 50            │\n",
       "│ 51  │ 0.0         │ 0.0         │ 51            │\n",
       "│ 52  │ 0.0         │ 0.0         │ 52            │\n",
       "│ 53  │ 0.0         │ 0.0         │ 53            │\n",
       "│ 54  │ 0.0         │ 0.0         │ 54            │\n",
       "│ 55  │ 0.0         │ 0.0         │ 55            │\n",
       "│ 56  │ 0.0         │ 0.0         │ 56            │\n",
       "│ 57  │ 0.0         │ 0.0         │ 57            │\n",
       "│ 58  │ 0.0         │ 3.5929e-6   │ 58            │\n",
       "│ 59  │ 0.0         │ 4.00648e-6  │ 59            │"
      ]
     },
     "execution_count": 9,
     "metadata": {},
     "output_type": "execute_result"
    }
   ],
   "source": [
    "germany_df = CSV.read(\"data/germany_Householddistribution.csv\")"
   ]
  },
  {
   "cell_type": "code",
   "execution_count": 10,
   "metadata": {},
   "outputs": [
    {
     "name": "stdout",
     "output_type": "stream",
     "text": [
      "  0.079504 seconds (378.07 k allocations: 27.377 MiB)\n"
     ]
    },
    {
     "data": {
      "text/plain": [
       "1001×1 Array{Float64,2}:\n",
       " 0.0\n",
       " 6.333162468599756e-212\n",
       " 7.989943553244647e-182\n",
       " 3.2327058922530074e-164\n",
       " 1.003019008109375e-151\n",
       " 4.89950444970299e-142\n",
       " 4.0372949697004726e-134\n",
       " 1.9886338181992714e-127\n",
       " 1.24596593962284e-121\n",
       " 1.6161659282424032e-116\n",
       " 6.052475020200241e-112\n",
       " 8.296015856193096e-108\n",
       " 4.958648541922298e-104\n",
       " ⋮\n",
       " 0.9865555886404973\n",
       " 0.9865950982665403\n",
       " 0.9866344727714363\n",
       " 0.9866737127129824\n",
       " 0.9867128186461834\n",
       " 0.9867517911232709\n",
       " 0.9867906306937179\n",
       " 0.9868293379042555\n",
       " 0.9868679132988903\n",
       " 0.9869063574189187\n",
       " 0.9869446708029449\n",
       " 0.9869828539868946"
      ]
     },
     "execution_count": 10,
     "metadata": {},
     "output_type": "execute_result"
    }
   ],
   "source": [
    "poland_sizes, poland_counts = load(\"data/poland-population.jld2\")[\"households_all\"] |> x->sum(x, dims=1) |> vec |> countuniquesorted\n",
    "@time poland_simple = ((c0,a) ->solve_simple(poland_sizes[2:end], poland_counts[2:end], c0=c0, a=a, f1=f1, f2=f2)).(C0s, As)"
   ]
  },
  {
   "cell_type": "code",
   "execution_count": 11,
   "metadata": {},
   "outputs": [
    {
     "name": "stdout",
     "output_type": "stream",
     "text": [
      "  0.364605 seconds (1.29 M allocations: 115.203 MiB)\n"
     ]
    },
    {
     "data": {
      "image/png": "[encoded data removed]",
      "text/plain": [
       "Figure(PyObject <Figure size 640x480 with 1 Axes>)"
      ]
     },
     "metadata": {},
     "output_type": "display_data"
    },
    {
     "name": "stdout",
     "output_type": "stream",
     "text": [
      "  0.122515 seconds (400.35 k allocations: 67.589 MiB)\n"
     ]
    }
   ],
   "source": [
    "@time berlin_simple = ((c0,a) ->solve_simple(germany_df.householdsize, germany_df.Berlin, c0=c0, a=a, f1=f1, f2=f2)).(C0s, As)\n",
    "@time germany_simple = ((c0,a) ->solve_simple(germany_df.householdsize, germany_df.Germany, c0=c0, a=a, f1=f1, f2=f2)).(C0s, As)\n",
    "\n",
    "plot(C0s, poland_simple, label=\"Poland\")\n",
    "plot(C0s, wroclaw_simple, label=\"Wrocław\")\n",
    "plot(C0s, germany_simple, label=\"Germany\")\n",
    "plot(C0s, berlin_simple, label=\"Berlin\")\n",
    "\n",
    "legend()\n",
    "xlim(left=1, right=2)\n",
    "ylim(bottom=0.6, top=1)\n",
    "xlabel(\"R*\")\n",
    "ylabel(\"relative prevalence\")\n",
    "\n",
    "savefig(plot_prefix*\"plots4_1-2.png\")"
   ]
  }
 ],
 "metadata": {
  "kernelspec": {
   "display_name": "Julia 1.4.1",
   "language": "julia",
   "name": "julia-1.4"
  },
  "language_info": {
   "file_extension": ".jl",
   "mimetype": "application/julia",
   "name": "julia",
   "version": "1.4.1"
  }
 },
 "nbformat": 4,
 "nbformat_minor": 2
}
