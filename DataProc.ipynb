version https://git-lfs.github.com/spec/v1
oid sha256:02d30cc5c9e84e2fb708fbf69959d7a6ad0c7803305bcc77a614991915334640
size 291737
